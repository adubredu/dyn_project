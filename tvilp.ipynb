{
 "cells": [
  {
   "cell_type": "code",
   "execution_count": 5,
   "metadata": {},
   "outputs": [],
   "source": [
    "using JuMP\n",
    "using GLPK\n",
    "using DataFrames"
   ]
  },
  {
   "cell_type": "code",
   "execution_count": 6,
   "id": "02dd2962",
   "metadata": {},
   "outputs": [
    {
     "data": {
      "text/html": [
       "<div class=\"data-frame\"><p>4 rows × 3 columns</p><table class=\"data-frame\"><thead><tr><th></th><th>Vaccine_Type</th><th>Cost</th><th>Effectiveness</th></tr><tr><th></th><th title=\"Symbol\">Symbol</th><th title=\"Float64\">Float64</th><th title=\"Float64\">Float64</th></tr></thead><tbody><tr><th>1</th><td>A</td><td>2.0</td><td>50.0</td></tr><tr><th>2</th><td>B</td><td>5.0</td><td>70.0</td></tr><tr><th>3</th><td>C</td><td>3.0</td><td>60.0</td></tr><tr><th>4</th><td>D</td><td>4.0</td><td>80.0</td></tr></tbody></table></div>"
      ],
      "text/latex": [
       "\\begin{tabular}{r|ccc}\n",
       "\t& Vaccine\\_Type & Cost & Effectiveness\\\\\n",
       "\t\\hline\n",
       "\t& Symbol & Float64 & Float64\\\\\n",
       "\t\\hline\n",
       "\t1 & A & 2.0 & 50.0 \\\\\n",
       "\t2 & B & 5.0 & 70.0 \\\\\n",
       "\t3 & C & 3.0 & 60.0 \\\\\n",
       "\t4 & D & 4.0 & 80.0 \\\\\n",
       "\\end{tabular}\n"
      ],
      "text/plain": [
       "\u001b[1m4×3 DataFrame\u001b[0m\n",
       "\u001b[1m Row \u001b[0m│\u001b[1m Vaccine_Type \u001b[0m\u001b[1m Cost    \u001b[0m\u001b[1m Effectiveness \u001b[0m\n",
       "\u001b[1m     \u001b[0m│\u001b[90m Symbol       \u001b[0m\u001b[90m Float64 \u001b[0m\u001b[90m Float64       \u001b[0m\n",
       "─────┼──────────────────────────────────────\n",
       "   1 │ A                 2.0           50.0\n",
       "   2 │ B                 5.0           70.0\n",
       "   3 │ C                 3.0           60.0\n",
       "   4 │ D                 4.0           80.0"
      ]
     },
     "execution_count": 6,
     "metadata": {},
     "output_type": "execute_result"
    }
   ],
   "source": [
    "cost_and_effectiveness = DataFrame(Vaccine_Type=[:A, :B, :C, :D], \n",
    "                           Cost=[2., 5., 3., 4.],\n",
    "                           Effectiveness=[50.,70.,60.,80])"
   ]
  },
  {
   "cell_type": "code",
   "execution_count": 7,
   "id": "7e6ddfce",
   "metadata": {},
   "outputs": [
    {
     "data": {
      "text/html": [
       "<div class=\"data-frame\"><p>4 rows × 9 columns</p><table class=\"data-frame\"><thead><tr><th></th><th>Vaccine_Type</th><th>T₀</th><th>T₁</th><th>T₂</th><th>T₃</th><th>T₄</th><th>T₅</th><th>T₆</th><th>T₇</th></tr><tr><th></th><th title=\"Symbol\">Symbol</th><th title=\"Float64\">Float64</th><th title=\"Float64\">Float64</th><th title=\"Float64\">Float64</th><th title=\"Float64\">Float64</th><th title=\"Float64\">Float64</th><th title=\"Float64\">Float64</th><th title=\"Float64\">Float64</th><th title=\"Float64\">Float64</th></tr></thead><tbody><tr><th>1</th><td>A</td><td>2.0</td><td>1.8</td><td>1.62</td><td>1.458</td><td>1.3122</td><td>1.18098</td><td>1.06288</td><td>0.956594</td></tr><tr><th>2</th><td>B</td><td>5.0</td><td>4.5</td><td>4.05</td><td>3.645</td><td>3.2805</td><td>2.95245</td><td>2.6572</td><td>2.39148</td></tr><tr><th>3</th><td>C</td><td>3.0</td><td>2.7</td><td>2.43</td><td>2.187</td><td>1.9683</td><td>1.77147</td><td>1.59432</td><td>1.4348</td></tr><tr><th>4</th><td>D</td><td>4.0</td><td>3.6</td><td>3.24</td><td>2.916</td><td>2.6244</td><td>2.36196</td><td>2.12576</td><td>1.91319</td></tr></tbody></table></div>"
      ],
      "text/latex": [
       "\\begin{tabular}{r|ccccccccc}\n",
       "\t& Vaccine\\_Type & T₀ & T₁ & T₂ & T₃ & T₄ & T₅ & T₆ & T₇\\\\\n",
       "\t\\hline\n",
       "\t& Symbol & Float64 & Float64 & Float64 & Float64 & Float64 & Float64 & Float64 & Float64\\\\\n",
       "\t\\hline\n",
       "\t1 & A & 2.0 & 1.8 & 1.62 & 1.458 & 1.3122 & 1.18098 & 1.06288 & 0.956594 \\\\\n",
       "\t2 & B & 5.0 & 4.5 & 4.05 & 3.645 & 3.2805 & 2.95245 & 2.6572 & 2.39148 \\\\\n",
       "\t3 & C & 3.0 & 2.7 & 2.43 & 2.187 & 1.9683 & 1.77147 & 1.59432 & 1.4348 \\\\\n",
       "\t4 & D & 4.0 & 3.6 & 3.24 & 2.916 & 2.6244 & 2.36196 & 2.12576 & 1.91319 \\\\\n",
       "\\end{tabular}\n"
      ],
      "text/plain": [
       "\u001b[1m4×9 DataFrame\u001b[0m\n",
       "\u001b[1m Row \u001b[0m│\u001b[1m Vaccine_Type \u001b[0m\u001b[1m T₀      \u001b[0m\u001b[1m T₁      \u001b[0m\u001b[1m T₂      \u001b[0m\u001b[1m T₃      \u001b[0m\u001b[1m T₄      \u001b[0m\u001b[1m T₅      \u001b[0m\u001b[1m T₆ \u001b[0m ⋯\n",
       "\u001b[1m     \u001b[0m│\u001b[90m Symbol       \u001b[0m\u001b[90m Float64 \u001b[0m\u001b[90m Float64 \u001b[0m\u001b[90m Float64 \u001b[0m\u001b[90m Float64 \u001b[0m\u001b[90m Float64 \u001b[0m\u001b[90m Float64 \u001b[0m\u001b[90m Flo\u001b[0m ⋯\n",
       "─────┼──────────────────────────────────────────────────────────────────────────\n",
       "   1 │ A                 2.0      1.8     1.62    1.458   1.3122  1.18098  1.0 ⋯\n",
       "   2 │ B                 5.0      4.5     4.05    3.645   3.2805  2.95245  2.6\n",
       "   3 │ C                 3.0      2.7     2.43    2.187   1.9683  1.77147  1.5\n",
       "   4 │ D                 4.0      3.6     3.24    2.916   2.6244  2.36196  2.1\n",
       "\u001b[36m                                                               2 columns omitted\u001b[0m"
      ]
     },
     "execution_count": 7,
     "metadata": {},
     "output_type": "execute_result"
    }
   ],
   "source": [
    "cost_per_vaccine_per_time = DataFrame(Vaccine_Type=[:A, :B, :C, :D],\n",
    "                                                T₀=[2., 5., 3., 4],\n",
    "                                                T₁=[1.8, 4.5, 2.7, 3.6],\n",
    "                                                T₂=[1.62, 4.05, 2.43, 3.24],\n",
    "                                                T₃=[1.458, 3.645, 2.187, 2.916],\n",
    "                                                T₄=[1.3122, 3.2805, 1.9683, 2.6244],\n",
    "                                                T₅=[1.18098, 2.95245, 1.77147, 2.36196 ],\n",
    "                                                T₆=[1.062882, 2.657205, 1.594323, 2.125764],\n",
    "                                                T₇=[0.956594, 2.391485, 1.4348, 1.913188])"
   ]
  },
  {
   "cell_type": "code",
   "execution_count": 8,
   "id": "85b9d3b8",
   "metadata": {},
   "outputs": [
    {
     "data": {
      "text/html": [
       "<div class=\"data-frame\"><p>4 rows × 2 columns</p><table class=\"data-frame\"><thead><tr><th></th><th>Age_range</th><th>Population</th></tr><tr><th></th><th title=\"String\">String</th><th title=\"Int64\">Int64</th></tr></thead><tbody><tr><th>1</th><td>0-5</td><td>19200</td></tr><tr><th>2</th><td>6-18</td><td>54400</td></tr><tr><th>3</th><td>19-65</td><td>268400</td></tr><tr><th>4</th><td>65+</td><td>58000</td></tr></tbody></table></div>"
      ],
      "text/latex": [
       "\\begin{tabular}{r|cc}\n",
       "\t& Age\\_range & Population\\\\\n",
       "\t\\hline\n",
       "\t& String & Int64\\\\\n",
       "\t\\hline\n",
       "\t1 & 0-5 & 19200 \\\\\n",
       "\t2 & 6-18 & 54400 \\\\\n",
       "\t3 & 19-65 & 268400 \\\\\n",
       "\t4 & 65+ & 58000 \\\\\n",
       "\\end{tabular}\n"
      ],
      "text/plain": [
       "\u001b[1m4×2 DataFrame\u001b[0m\n",
       "\u001b[1m Row \u001b[0m│\u001b[1m Age_range \u001b[0m\u001b[1m Population \u001b[0m\n",
       "\u001b[1m     \u001b[0m│\u001b[90m String    \u001b[0m\u001b[90m Int64      \u001b[0m\n",
       "─────┼───────────────────────\n",
       "   1 │ 0-5             19200\n",
       "   2 │ 6-18            54400\n",
       "   3 │ 19-65          268400\n",
       "   4 │ 65+             58000"
      ]
     },
     "execution_count": 8,
     "metadata": {},
     "output_type": "execute_result"
    }
   ],
   "source": [
    "population = DataFrame(Age_range=[\"0-5\", \"6-18\", \"19-65\",\"65+\"],\n",
    "                       Population=[19200, 54400, 268400, 58000])"
   ]
  },
  {
   "cell_type": "code",
   "execution_count": 10,
   "id": "55472067",
   "metadata": {},
   "outputs": [
    {
     "data": {
      "text/html": [
       "<div class=\"data-frame\"><p>4 rows × 5 columns</p><table class=\"data-frame\"><thead><tr><th></th><th>Age_range</th><th>A</th><th>B</th><th>C</th><th>D</th></tr><tr><th></th><th title=\"String\">String</th><th title=\"Float64\">Float64</th><th title=\"Float64\">Float64</th><th title=\"Float64\">Float64</th><th title=\"Float64\">Float64</th></tr></thead><tbody><tr><th>1</th><td>0-5</td><td>75.0</td><td>70.0</td><td>60.0</td><td>65.0</td></tr><tr><th>2</th><td>6-18</td><td>50.0</td><td>85.0</td><td>60.0</td><td>65.0</td></tr><tr><th>3</th><td>19-65</td><td>50.0</td><td>70.0</td><td>75.0</td><td>65.0</td></tr><tr><th>4</th><td>65+</td><td>50.0</td><td>70.0</td><td>60.0</td><td>80.0</td></tr></tbody></table></div>"
      ],
      "text/latex": [
       "\\begin{tabular}{r|ccccc}\n",
       "\t& Age\\_range & A & B & C & D\\\\\n",
       "\t\\hline\n",
       "\t& String & Float64 & Float64 & Float64 & Float64\\\\\n",
       "\t\\hline\n",
       "\t1 & 0-5 & 75.0 & 70.0 & 60.0 & 65.0 \\\\\n",
       "\t2 & 6-18 & 50.0 & 85.0 & 60.0 & 65.0 \\\\\n",
       "\t3 & 19-65 & 50.0 & 70.0 & 75.0 & 65.0 \\\\\n",
       "\t4 & 65+ & 50.0 & 70.0 & 60.0 & 80.0 \\\\\n",
       "\\end{tabular}\n"
      ],
      "text/plain": [
       "\u001b[1m4×5 DataFrame\u001b[0m\n",
       "\u001b[1m Row \u001b[0m│\u001b[1m Age_range \u001b[0m\u001b[1m A       \u001b[0m\u001b[1m B       \u001b[0m\u001b[1m C       \u001b[0m\u001b[1m D       \u001b[0m\n",
       "\u001b[1m     \u001b[0m│\u001b[90m String    \u001b[0m\u001b[90m Float64 \u001b[0m\u001b[90m Float64 \u001b[0m\u001b[90m Float64 \u001b[0m\u001b[90m Float64 \u001b[0m\n",
       "─────┼───────────────────────────────────────────────\n",
       "   1 │ 0-5           75.0     70.0     60.0     65.0\n",
       "   2 │ 6-18          50.0     85.0     60.0     65.0\n",
       "   3 │ 19-65         50.0     70.0     75.0     65.0\n",
       "   4 │ 65+           50.0     70.0     60.0     80.0"
      ]
     },
     "execution_count": 10,
     "metadata": {},
     "output_type": "execute_result"
    }
   ],
   "source": [
    "effectiveness_per_population = DataFrame(Age_range=[\"0-5\", \"6-18\", \"19-65\",\"65+\"],\n",
    "                                        A=[75., 50., 50.,50],\n",
    "                                        B=[70.,85.,70.,70.],\n",
    "                                        C=[60.,60.,75.,60.],\n",
    "                                        D=[65.,65.,65.,80.])"
   ]
  },
  {
   "cell_type": "code",
   "execution_count": null,
   "id": "09779739",
   "metadata": {},
   "outputs": [],
   "source": [
    "function resultant_value(vaccine_type)\n",
    "    e = "
   ]
  },
  {
   "cell_type": "code",
   "execution_count": 17,
   "id": "e0ee46a6",
   "metadata": {},
   "outputs": [
    {
     "ename": "LoadError",
     "evalue": "ArgumentError: syntax df[column] is not supported use df[!, column] instead",
     "output_type": "error",
     "traceback": [
      "ArgumentError: syntax df[column] is not supported use df[!, column] instead",
      "",
      "Stacktrace:",
      " [1] getindex(#unused#::DataFrame, #unused#::Symbol)",
      "   @ DataFrames ~/.julia/packages/DataFrames/vuMM8/src/abstractdataframe/abstractdataframe.jl:2161",
      " [2] top-level scope",
      "   @ In[17]:1",
      " [3] eval",
      "   @ ./boot.jl:360 [inlined]",
      " [4] include_string(mapexpr::typeof(REPL.softscope), mod::Module, code::String, filename::String)",
      "   @ Base ./loading.jl:1116"
     ]
    }
   ],
   "source": [
    "getindex(cost_and_effectiveness, :A)"
   ]
  },
  {
   "cell_type": "code",
   "execution_count": null,
   "id": "93aacff3",
   "metadata": {},
   "outputs": [],
   "source": []
  }
 ],
 "metadata": {
  "kernelspec": {
   "display_name": "Julia 1.6.3",
   "language": "julia",
   "name": "julia-1.6"
  },
  "language_info": {
   "file_extension": ".jl",
   "mimetype": "application/julia",
   "name": "julia",
   "version": "1.6.3"
  }
 },
 "nbformat": 4,
 "nbformat_minor": 5
}
