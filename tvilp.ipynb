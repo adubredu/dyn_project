{
 "cells": [
  {
   "cell_type": "code",
   "execution_count": 14,
   "id": "cc67aa72",
   "metadata": {},
   "outputs": [],
   "source": [
    "using Pkg\n",
    "Pkg.instantiate()\n",
    "using JuMP\n",
    "using GLPK\n",
    "using DataFrames"
   ]
  },
  {
   "cell_type": "markdown",
   "id": "3316388b",
   "metadata": {},
   "source": [
    "# Creating tables for the Data"
   ]
  },
  {
   "cell_type": "code",
   "execution_count": 15,
   "id": "02dd2962",
   "metadata": {},
   "outputs": [
    {
     "data": {
      "text/html": [
       "<div class=\"data-frame\"><p>4 rows × 3 columns</p><table class=\"data-frame\"><thead><tr><th></th><th>Vaccine_Type</th><th>Cost</th><th>Effectiveness</th></tr><tr><th></th><th title=\"Symbol\">Symbol</th><th title=\"Float64\">Float64</th><th title=\"Float64\">Float64</th></tr></thead><tbody><tr><th>1</th><td>A</td><td>3.2</td><td>0.5</td></tr><tr><th>2</th><td>B</td><td>3.45</td><td>0.55</td></tr><tr><th>3</th><td>C</td><td>3.5</td><td>0.55</td></tr><tr><th>4</th><td>D</td><td>3.3</td><td>0.55</td></tr></tbody></table></div>"
      ],
      "text/latex": [
       "\\begin{tabular}{r|ccc}\n",
       "\t& Vaccine\\_Type & Cost & Effectiveness\\\\\n",
       "\t\\hline\n",
       "\t& Symbol & Float64 & Float64\\\\\n",
       "\t\\hline\n",
       "\t1 & A & 3.2 & 0.5 \\\\\n",
       "\t2 & B & 3.45 & 0.55 \\\\\n",
       "\t3 & C & 3.5 & 0.55 \\\\\n",
       "\t4 & D & 3.3 & 0.55 \\\\\n",
       "\\end{tabular}\n"
      ],
      "text/plain": [
       "\u001b[1m4×3 DataFrame\u001b[0m\n",
       "\u001b[1m Row \u001b[0m│\u001b[1m Vaccine_Type \u001b[0m\u001b[1m Cost    \u001b[0m\u001b[1m Effectiveness \u001b[0m\n",
       "\u001b[1m     \u001b[0m│\u001b[90m Symbol       \u001b[0m\u001b[90m Float64 \u001b[0m\u001b[90m Float64       \u001b[0m\n",
       "─────┼──────────────────────────────────────\n",
       "   1 │ A                3.2            0.5\n",
       "   2 │ B                3.45           0.55\n",
       "   3 │ C                3.5            0.55\n",
       "   4 │ D                3.3            0.55"
      ]
     },
     "execution_count": 15,
     "metadata": {},
     "output_type": "execute_result"
    }
   ],
   "source": [
    "cost_and_effectiveness = DataFrame(Vaccine_Type=[:A, :B, :C, :D], \n",
    "                           Cost=[3.2, 3.45, 3.5, 3.3],\n",
    "                           Effectiveness=[.50,.55,.55,.55])"
   ]
  },
  {
   "cell_type": "code",
   "execution_count": 16,
   "id": "7e6ddfce",
   "metadata": {},
   "outputs": [
    {
     "data": {
      "text/html": [
       "<div class=\"data-frame\"><p>4 rows × 9 columns</p><table class=\"data-frame\"><thead><tr><th></th><th>Vaccine_Type</th><th>T₀</th><th>T₁</th><th>T₂</th><th>T₃</th><th>T₄</th><th>T₅</th><th>T₆</th><th>T₇</th></tr><tr><th></th><th title=\"Symbol\">Symbol</th><th title=\"Float64\">Float64</th><th title=\"Float64\">Float64</th><th title=\"Float64\">Float64</th><th title=\"Float64\">Float64</th><th title=\"Float64\">Float64</th><th title=\"Float64\">Float64</th><th title=\"Float64\">Float64</th><th title=\"Float64\">Float64</th></tr></thead><tbody><tr><th>1</th><td>A</td><td>2.0</td><td>2.45</td><td>2.5</td><td>2.558</td><td>2.3122</td><td>2.18098</td><td>2.62882</td><td>1.913</td></tr><tr><th>2</th><td>B</td><td>2.3</td><td>2.6</td><td>2.8</td><td>2.745</td><td>2.2805</td><td>2.95245</td><td>2.6572</td><td>1.913</td></tr><tr><th>3</th><td>C</td><td>3.0</td><td>2.47</td><td>2.47</td><td>2.87</td><td>2.3</td><td>2.37147</td><td>2.59432</td><td>1.913</td></tr><tr><th>4</th><td>D</td><td>2.4</td><td>2.6</td><td>2.44</td><td>2.916</td><td>2.6244</td><td>2.36196</td><td>2.62576</td><td>1.913</td></tr></tbody></table></div>"
      ],
      "text/latex": [
       "\\begin{tabular}{r|ccccccccc}\n",
       "\t& Vaccine\\_Type & T₀ & T₁ & T₂ & T₃ & T₄ & T₅ & T₆ & T₇\\\\\n",
       "\t\\hline\n",
       "\t& Symbol & Float64 & Float64 & Float64 & Float64 & Float64 & Float64 & Float64 & Float64\\\\\n",
       "\t\\hline\n",
       "\t1 & A & 2.0 & 2.45 & 2.5 & 2.558 & 2.3122 & 2.18098 & 2.62882 & 1.913 \\\\\n",
       "\t2 & B & 2.3 & 2.6 & 2.8 & 2.745 & 2.2805 & 2.95245 & 2.6572 & 1.913 \\\\\n",
       "\t3 & C & 3.0 & 2.47 & 2.47 & 2.87 & 2.3 & 2.37147 & 2.59432 & 1.913 \\\\\n",
       "\t4 & D & 2.4 & 2.6 & 2.44 & 2.916 & 2.6244 & 2.36196 & 2.62576 & 1.913 \\\\\n",
       "\\end{tabular}\n"
      ],
      "text/plain": [
       "\u001b[1m4×9 DataFrame\u001b[0m\n",
       "\u001b[1m Row \u001b[0m│\u001b[1m Vaccine_Type \u001b[0m\u001b[1m T₀      \u001b[0m\u001b[1m T₁      \u001b[0m\u001b[1m T₂      \u001b[0m\u001b[1m T₃      \u001b[0m\u001b[1m T₄      \u001b[0m\u001b[1m T₅      \u001b[0m\u001b[1m T₆ \u001b[0m ⋯\n",
       "\u001b[1m     \u001b[0m│\u001b[90m Symbol       \u001b[0m\u001b[90m Float64 \u001b[0m\u001b[90m Float64 \u001b[0m\u001b[90m Float64 \u001b[0m\u001b[90m Float64 \u001b[0m\u001b[90m Float64 \u001b[0m\u001b[90m Float64 \u001b[0m\u001b[90m Flo\u001b[0m ⋯\n",
       "─────┼──────────────────────────────────────────────────────────────────────────\n",
       "   1 │ A                 2.0     2.45     2.5     2.558   2.3122  2.18098  2.6 ⋯\n",
       "   2 │ B                 2.3     2.6      2.8     2.745   2.2805  2.95245  2.6\n",
       "   3 │ C                 3.0     2.47     2.47    2.87    2.3     2.37147  2.5\n",
       "   4 │ D                 2.4     2.6      2.44    2.916   2.6244  2.36196  2.6\n",
       "\u001b[36m                                                               2 columns omitted\u001b[0m"
      ]
     },
     "execution_count": 16,
     "metadata": {},
     "output_type": "execute_result"
    }
   ],
   "source": [
    "cost_per_vaccine_per_time = DataFrame(Vaccine_Type=[:A, :B, :C, :D],\n",
    "                                                T₀=[2., 2.3, 3., 2.4],\n",
    "                                                T₁=[2.45, 2.6, 2.47, 2.6],\n",
    "                                                T₂=[2.5, 2.8, 2.47, 2.44],\n",
    "                                                T₃=[2.558, 2.745, 2.87, 2.916],\n",
    "                                                T₄=[2.3122, 2.2805, 2.3, 2.6244],\n",
    "                                                T₅=[2.18098, 2.95245, 2.37147, 2.36196 ],\n",
    "                                                T₆=[2.62882, 2.657205, 2.594323, 2.625764],\n",
    "                                                T₇=[1.913, 1.913, 1.913, 1.913])"
   ]
  },
  {
   "cell_type": "code",
   "execution_count": 17,
   "id": "85b9d3b8",
   "metadata": {},
   "outputs": [
    {
     "data": {
      "text/html": [
       "<div class=\"data-frame\"><p>4 rows × 2 columns</p><table class=\"data-frame\"><thead><tr><th></th><th>Age_range</th><th>Population</th></tr><tr><th></th><th title=\"String\">String</th><th title=\"Int64\">Int64</th></tr></thead><tbody><tr><th>1</th><td>0-5</td><td>19200</td></tr><tr><th>2</th><td>6-18</td><td>54400</td></tr><tr><th>3</th><td>19-65</td><td>268400</td></tr><tr><th>4</th><td>65+</td><td>58000</td></tr></tbody></table></div>"
      ],
      "text/latex": [
       "\\begin{tabular}{r|cc}\n",
       "\t& Age\\_range & Population\\\\\n",
       "\t\\hline\n",
       "\t& String & Int64\\\\\n",
       "\t\\hline\n",
       "\t1 & 0-5 & 19200 \\\\\n",
       "\t2 & 6-18 & 54400 \\\\\n",
       "\t3 & 19-65 & 268400 \\\\\n",
       "\t4 & 65+ & 58000 \\\\\n",
       "\\end{tabular}\n"
      ],
      "text/plain": [
       "\u001b[1m4×2 DataFrame\u001b[0m\n",
       "\u001b[1m Row \u001b[0m│\u001b[1m Age_range \u001b[0m\u001b[1m Population \u001b[0m\n",
       "\u001b[1m     \u001b[0m│\u001b[90m String    \u001b[0m\u001b[90m Int64      \u001b[0m\n",
       "─────┼───────────────────────\n",
       "   1 │ 0-5             19200\n",
       "   2 │ 6-18            54400\n",
       "   3 │ 19-65          268400\n",
       "   4 │ 65+             58000"
      ]
     },
     "execution_count": 17,
     "metadata": {},
     "output_type": "execute_result"
    }
   ],
   "source": [
    "population = DataFrame(Age_range=[\"0-5\", \"6-18\", \"19-65\",\"65+\"],\n",
    "                       Population=[19200, 54400, 268400, 58000])"
   ]
  },
  {
   "cell_type": "code",
   "execution_count": 18,
   "id": "55472067",
   "metadata": {},
   "outputs": [
    {
     "data": {
      "text/html": [
       "<div class=\"data-frame\"><p>4 rows × 5 columns</p><table class=\"data-frame\"><thead><tr><th></th><th>Age_range</th><th>A</th><th>B</th><th>C</th><th>D</th></tr><tr><th></th><th title=\"String\">String</th><th title=\"Float64\">Float64</th><th title=\"Float64\">Float64</th><th title=\"Float64\">Float64</th><th title=\"Float64\">Float64</th></tr></thead><tbody><tr><th>1</th><td>0-5</td><td>0.75</td><td>0.7</td><td>0.6</td><td>0.65</td></tr><tr><th>2</th><td>6-18</td><td>0.5</td><td>0.65</td><td>0.6</td><td>0.65</td></tr><tr><th>3</th><td>19-65</td><td>0.5</td><td>0.65</td><td>0.65</td><td>0.65</td></tr><tr><th>4</th><td>65+</td><td>0.5</td><td>0.66</td><td>0.6</td><td>0.65</td></tr></tbody></table></div>"
      ],
      "text/latex": [
       "\\begin{tabular}{r|ccccc}\n",
       "\t& Age\\_range & A & B & C & D\\\\\n",
       "\t\\hline\n",
       "\t& String & Float64 & Float64 & Float64 & Float64\\\\\n",
       "\t\\hline\n",
       "\t1 & 0-5 & 0.75 & 0.7 & 0.6 & 0.65 \\\\\n",
       "\t2 & 6-18 & 0.5 & 0.65 & 0.6 & 0.65 \\\\\n",
       "\t3 & 19-65 & 0.5 & 0.65 & 0.65 & 0.65 \\\\\n",
       "\t4 & 65+ & 0.5 & 0.66 & 0.6 & 0.65 \\\\\n",
       "\\end{tabular}\n"
      ],
      "text/plain": [
       "\u001b[1m4×5 DataFrame\u001b[0m\n",
       "\u001b[1m Row \u001b[0m│\u001b[1m Age_range \u001b[0m\u001b[1m A       \u001b[0m\u001b[1m B       \u001b[0m\u001b[1m C       \u001b[0m\u001b[1m D       \u001b[0m\n",
       "\u001b[1m     \u001b[0m│\u001b[90m String    \u001b[0m\u001b[90m Float64 \u001b[0m\u001b[90m Float64 \u001b[0m\u001b[90m Float64 \u001b[0m\u001b[90m Float64 \u001b[0m\n",
       "─────┼───────────────────────────────────────────────\n",
       "   1 │ 0-5           0.75     0.7      0.6      0.65\n",
       "   2 │ 6-18          0.5      0.65     0.6      0.65\n",
       "   3 │ 19-65         0.5      0.65     0.65     0.65\n",
       "   4 │ 65+           0.5      0.66     0.6      0.65"
      ]
     },
     "execution_count": 18,
     "metadata": {},
     "output_type": "execute_result"
    }
   ],
   "source": [
    "effectiveness_per_population = DataFrame(Age_range=[\"0-5\", \"6-18\", \"19-65\",\"65+\"],\n",
    "                                        A=[.75, .50, .50, .50],\n",
    "                                        B=[.70,.65, .65, .66],\n",
    "                                        C=[.60,.60, .65, .60],\n",
    "                                        D=[.65,.65, .65, .65])"
   ]
  },
  {
   "cell_type": "code",
   "execution_count": 19,
   "id": "47aad71c",
   "metadata": {},
   "outputs": [
    {
     "data": {
      "text/html": [
       "<div class=\"data-frame\"><p>8 rows × 2 columns</p><table class=\"data-frame\"><thead><tr><th></th><th>Time</th><th>Budget</th></tr><tr><th></th><th title=\"Symbol\">Symbol</th><th title=\"Float64\">Float64</th></tr></thead><tbody><tr><th>1</th><td>T₀</td><td>142850.0</td></tr><tr><th>2</th><td>T₁</td><td>122850.0</td></tr><tr><th>3</th><td>T₂</td><td>112850.0</td></tr><tr><th>4</th><td>T₃</td><td>162850.0</td></tr><tr><th>5</th><td>T₄</td><td>172850.0</td></tr><tr><th>6</th><td>T₅</td><td>152850.0</td></tr><tr><th>7</th><td>T₆</td><td>162850.0</td></tr><tr><th>8</th><td>T₇</td><td>122850.0</td></tr></tbody></table></div>"
      ],
      "text/latex": [
       "\\begin{tabular}{r|cc}\n",
       "\t& Time & Budget\\\\\n",
       "\t\\hline\n",
       "\t& Symbol & Float64\\\\\n",
       "\t\\hline\n",
       "\t1 & T₀ & 142850.0 \\\\\n",
       "\t2 & T₁ & 122850.0 \\\\\n",
       "\t3 & T₂ & 112850.0 \\\\\n",
       "\t4 & T₃ & 162850.0 \\\\\n",
       "\t5 & T₄ & 172850.0 \\\\\n",
       "\t6 & T₅ & 152850.0 \\\\\n",
       "\t7 & T₆ & 162850.0 \\\\\n",
       "\t8 & T₇ & 122850.0 \\\\\n",
       "\\end{tabular}\n"
      ],
      "text/plain": [
       "\u001b[1m8×2 DataFrame\u001b[0m\n",
       "\u001b[1m Row \u001b[0m│\u001b[1m Time   \u001b[0m\u001b[1m Budget   \u001b[0m\n",
       "\u001b[1m     \u001b[0m│\u001b[90m Symbol \u001b[0m\u001b[90m Float64  \u001b[0m\n",
       "─────┼──────────────────\n",
       "   1 │ T₀      142850.0\n",
       "   2 │ T₁      122850.0\n",
       "   3 │ T₂      112850.0\n",
       "   4 │ T₃      162850.0\n",
       "   5 │ T₄      172850.0\n",
       "   6 │ T₅      152850.0\n",
       "   7 │ T₆      162850.0\n",
       "   8 │ T₇      122850.0"
      ]
     },
     "execution_count": 19,
     "metadata": {},
     "output_type": "execute_result"
    }
   ],
   "source": [
    "budget_per_time = DataFrame(Time=[:T₀, :T₁, :T₂, :T₃, :T₄, :T₅, :T₆, :T₇ ],\n",
    "                            Budget=[142850., 122850., 112850., 162850., 172850., 152850., 162850., 122850.])"
   ]
  },
  {
   "cell_type": "code",
   "execution_count": 20,
   "id": "09779739",
   "metadata": {},
   "outputs": [
    {
     "data": {
      "text/plain": [
       "resultant_value (generic function with 1 method)"
      ]
     },
     "execution_count": 20,
     "metadata": {},
     "output_type": "execute_result"
    }
   ],
   "source": [
    "function resultant_value(vaccine_type)\n",
    "    col_ind = findall(x->x==vaccine_type, cost_and_effectiveness[:,names(cost_and_effectiveness)[1]])[1]\n",
    "    êᵢ = cost_and_effectiveness[:,:Effectiveness][col_ind]\n",
    "    Σ = sum([e*0.001*n for (e,n) in zip(effectiveness_per_population[:, vaccine_type], population[:,:Population])])\n",
    "    eᵢ = êᵢ * Σ\n",
    "    return eᵢ\n",
    "end"
   ]
  },
  {
   "cell_type": "code",
   "execution_count": 21,
   "id": "b0f87cd0",
   "metadata": {},
   "outputs": [
    {
     "data": {
      "text/plain": [
       "find_col_index (generic function with 1 method)"
      ]
     },
     "execution_count": 21,
     "metadata": {},
     "output_type": "execute_result"
    }
   ],
   "source": [
    "function find_col_index(var, df) \n",
    "    ind = findall(x->x==var, df[:,names(df)[1]])[1]\n",
    "    return ind\n",
    "end"
   ]
  },
  {
   "cell_type": "markdown",
   "id": "8cc1b005",
   "metadata": {},
   "source": [
    "# Solving the ILP"
   ]
  },
  {
   "cell_type": "markdown",
   "id": "8ec7af61",
   "metadata": {},
   "source": [
    "## TV-ILP solver"
   ]
  },
  {
   "cell_type": "code",
   "execution_count": 22,
   "id": "cedbd222",
   "metadata": {},
   "outputs": [],
   "source": [
    "xs = []\n",
    "ts = [:T₀, :T₁, :T₂, :T₃, :T₄, :T₅, :T₆, :T₇]\n",
    "V = [resultant_value(vax) for vax in [:A, :B, :C, :D]]\n",
    "N = length(cost_and_effectiveness[:,:Vaccine_Type])\n",
    "init = [0 for i=1:N]\n",
    "\n",
    "\n",
    "for t in ts \n",
    "    C = cost_per_vaccine_per_time[:,t]\n",
    "    B = budget_per_time[:,:Budget][find_col_index(t, budget_per_time)] \n",
    "\n",
    "    tvlp = Model(GLPK.Optimizer) \n",
    "\n",
    "    @variable(tvlp, x[i=1:N] >= 10000, Int, start = init[i])\n",
    "    @constraint(tvlp, C'x <= B)\n",
    "    # @constraint(tvlp, x >=)\n",
    "    @objective(tvlp, Max, V'x)\n",
    "    optimize!(tvlp)\n",
    "    init = value.(x)\n",
    "    push!(xs, init)\n",
    "    println(\"Time step \",t,\" \",init)\n",
    "end\n"
   ]
  },
  {
   "cell_type": "code",
   "execution_count": null,
   "id": "44d5e46e",
   "metadata": {},
   "outputs": [],
   "source": [
    "xs=hcat(xs...)"
   ]
  },
  {
   "cell_type": "code",
   "execution_count": null,
   "id": "2a76ae79",
   "metadata": {},
   "outputs": [],
   "source": [
    "using PlotlyJS\n",
    "\n",
    "times = [String(t) for t in ts]\n",
    "\n",
    "p = plot([\n",
    "    bar(name=\"Vaccine A\", x=times, y=xs[1,:]),\n",
    "    bar(name=\"Vaccine B\", x=times, y=xs[2,:]),\n",
    "    bar(name=\"Vaccine C\", x=times, y=xs[3,:]),\n",
    "    bar(name=\"Vaccine D\", x=times, y=xs[4,:])\n",
    "])\n",
    "relayout!(p, barmode=\"group\")\n",
    "p"
   ]
  }
 ],
 "metadata": {
  "kernelspec": {
   "display_name": "Julia 1.6.3",
   "language": "julia",
   "name": "julia-1.6"
  },
  "language_info": {
   "file_extension": ".jl",
   "mimetype": "application/julia",
   "name": "julia",
   "version": "1.6.3"
  }
 },
 "nbformat": 4,
 "nbformat_minor": 5
}
