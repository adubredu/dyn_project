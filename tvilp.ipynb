{
 "cells": [
  {
   "cell_type": "code",
   "execution_count": 1,
   "id": "cc67aa72",
   "metadata": {},
   "outputs": [],
   "source": [
    "using Pkg\n",
    "Pkg.instantiate()\n",
    "using JuMP\n",
    "using GLPK\n",
    "using DataFrames"
   ]
  },
  {
   "cell_type": "markdown",
   "id": "3316388b",
   "metadata": {},
   "source": [
    "## Creating tables for the Data"
   ]
  },
  {
   "cell_type": "code",
   "execution_count": 2,
   "id": "02dd2962",
   "metadata": {},
   "outputs": [
    {
     "data": {
      "text/html": [
       "<div class=\"data-frame\"><p>4 rows × 3 columns</p><table class=\"data-frame\"><thead><tr><th></th><th>Vaccine_Type</th><th>Cost</th><th>Effectiveness</th></tr><tr><th></th><th title=\"Symbol\">Symbol</th><th title=\"Float64\">Float64</th><th title=\"Float64\">Float64</th></tr></thead><tbody><tr><th>1</th><td>A</td><td>2.0</td><td>0.5</td></tr><tr><th>2</th><td>B</td><td>5.0</td><td>0.7</td></tr><tr><th>3</th><td>C</td><td>3.0</td><td>0.6</td></tr><tr><th>4</th><td>D</td><td>4.0</td><td>0.8</td></tr></tbody></table></div>"
      ],
      "text/latex": [
       "\\begin{tabular}{r|ccc}\n",
       "\t& Vaccine\\_Type & Cost & Effectiveness\\\\\n",
       "\t\\hline\n",
       "\t& Symbol & Float64 & Float64\\\\\n",
       "\t\\hline\n",
       "\t1 & A & 2.0 & 0.5 \\\\\n",
       "\t2 & B & 5.0 & 0.7 \\\\\n",
       "\t3 & C & 3.0 & 0.6 \\\\\n",
       "\t4 & D & 4.0 & 0.8 \\\\\n",
       "\\end{tabular}\n"
      ],
      "text/plain": [
       "\u001b[1m4×3 DataFrame\u001b[0m\n",
       "\u001b[1m Row \u001b[0m│\u001b[1m Vaccine_Type \u001b[0m\u001b[1m Cost    \u001b[0m\u001b[1m Effectiveness \u001b[0m\n",
       "\u001b[1m     \u001b[0m│\u001b[90m Symbol       \u001b[0m\u001b[90m Float64 \u001b[0m\u001b[90m Float64       \u001b[0m\n",
       "─────┼──────────────────────────────────────\n",
       "   1 │ A                 2.0            0.5\n",
       "   2 │ B                 5.0            0.7\n",
       "   3 │ C                 3.0            0.6\n",
       "   4 │ D                 4.0            0.8"
      ]
     },
     "execution_count": 2,
     "metadata": {},
     "output_type": "execute_result"
    }
   ],
   "source": [
    "cost_and_effectiveness = DataFrame(Vaccine_Type=[:A, :B, :C, :D], \n",
    "                           Cost=[2., 5., 3., 4.],\n",
    "                           Effectiveness=[.50,.70,.60,.80])"
   ]
  },
  {
   "cell_type": "code",
   "execution_count": 4,
   "id": "7e6ddfce",
   "metadata": {},
   "outputs": [
    {
     "data": {
      "text/html": [
       "<div class=\"data-frame\"><p>4 rows × 9 columns</p><table class=\"data-frame\"><thead><tr><th></th><th>Vaccine_Type</th><th>T₀</th><th>T₁</th><th>T₂</th><th>T₃</th><th>T₄</th><th>T₅</th><th>T₆</th><th>T₇</th></tr><tr><th></th><th title=\"Symbol\">Symbol</th><th title=\"Float64\">Float64</th><th title=\"Float64\">Float64</th><th title=\"Float64\">Float64</th><th title=\"Float64\">Float64</th><th title=\"Float64\">Float64</th><th title=\"Float64\">Float64</th><th title=\"Float64\">Float64</th><th title=\"Float64\">Float64</th></tr></thead><tbody><tr><th>1</th><td>A</td><td>2.0</td><td>1.8</td><td>1.62</td><td>1.458</td><td>1.3122</td><td>1.18098</td><td>1.06288</td><td>0.956594</td></tr><tr><th>2</th><td>B</td><td>5.0</td><td>4.5</td><td>4.05</td><td>3.645</td><td>3.2805</td><td>2.95245</td><td>2.6572</td><td>2.39148</td></tr><tr><th>3</th><td>C</td><td>3.0</td><td>2.7</td><td>2.43</td><td>2.187</td><td>1.9683</td><td>1.77147</td><td>1.59432</td><td>1.4348</td></tr><tr><th>4</th><td>D</td><td>4.0</td><td>3.6</td><td>3.24</td><td>2.916</td><td>2.6244</td><td>2.36196</td><td>2.12576</td><td>1.91319</td></tr></tbody></table></div>"
      ],
      "text/latex": [
       "\\begin{tabular}{r|ccccccccc}\n",
       "\t& Vaccine\\_Type & T₀ & T₁ & T₂ & T₃ & T₄ & T₅ & T₆ & T₇\\\\\n",
       "\t\\hline\n",
       "\t& Symbol & Float64 & Float64 & Float64 & Float64 & Float64 & Float64 & Float64 & Float64\\\\\n",
       "\t\\hline\n",
       "\t1 & A & 2.0 & 1.8 & 1.62 & 1.458 & 1.3122 & 1.18098 & 1.06288 & 0.956594 \\\\\n",
       "\t2 & B & 5.0 & 4.5 & 4.05 & 3.645 & 3.2805 & 2.95245 & 2.6572 & 2.39148 \\\\\n",
       "\t3 & C & 3.0 & 2.7 & 2.43 & 2.187 & 1.9683 & 1.77147 & 1.59432 & 1.4348 \\\\\n",
       "\t4 & D & 4.0 & 3.6 & 3.24 & 2.916 & 2.6244 & 2.36196 & 2.12576 & 1.91319 \\\\\n",
       "\\end{tabular}\n"
      ],
      "text/plain": [
       "\u001b[1m4×9 DataFrame\u001b[0m\n",
       "\u001b[1m Row \u001b[0m│\u001b[1m Vaccine_Type \u001b[0m\u001b[1m T₀      \u001b[0m\u001b[1m T₁      \u001b[0m\u001b[1m T₂      \u001b[0m\u001b[1m T₃      \u001b[0m\u001b[1m T₄      \u001b[0m\u001b[1m T₅      \u001b[0m\u001b[1m T₆ \u001b[0m ⋯\n",
       "\u001b[1m     \u001b[0m│\u001b[90m Symbol       \u001b[0m\u001b[90m Float64 \u001b[0m\u001b[90m Float64 \u001b[0m\u001b[90m Float64 \u001b[0m\u001b[90m Float64 \u001b[0m\u001b[90m Float64 \u001b[0m\u001b[90m Float64 \u001b[0m\u001b[90m Flo\u001b[0m ⋯\n",
       "─────┼──────────────────────────────────────────────────────────────────────────\n",
       "   1 │ A                 2.0      1.8     1.62    1.458   1.3122  1.18098  1.0 ⋯\n",
       "   2 │ B                 5.0      4.5     4.05    3.645   3.2805  2.95245  2.6\n",
       "   3 │ C                 3.0      2.7     2.43    2.187   1.9683  1.77147  1.5\n",
       "   4 │ D                 4.0      3.6     3.24    2.916   2.6244  2.36196  2.1\n",
       "\u001b[36m                                                               2 columns omitted\u001b[0m"
      ]
     },
     "execution_count": 4,
     "metadata": {},
     "output_type": "execute_result"
    }
   ],
   "source": [
    "cost_per_vaccine_per_time = DataFrame(Vaccine_Type=[:A, :B, :C, :D],\n",
    "                                                T₀=[2., 5., 3., 4],\n",
    "                                                T₁=[1.8, 4.5, 2.7, 3.6],\n",
    "                                                T₂=[1.62, 4.05, 2.43, 3.24],\n",
    "                                                T₃=[1.458, 3.645, 2.187, 2.916],\n",
    "                                                T₄=[1.3122, 3.2805, 1.9683, 2.6244],\n",
    "                                                T₅=[1.18098, 2.95245, 1.77147, 2.36196 ],\n",
    "                                                T₆=[1.062882, 2.657205, 1.594323, 2.125764],\n",
    "                                                T₇=[0.956594, 2.391485, 1.4348, 1.913188])"
   ]
  },
  {
   "cell_type": "code",
   "execution_count": 5,
   "id": "85b9d3b8",
   "metadata": {},
   "outputs": [
    {
     "data": {
      "text/html": [
       "<div class=\"data-frame\"><p>4 rows × 2 columns</p><table class=\"data-frame\"><thead><tr><th></th><th>Age_range</th><th>Population</th></tr><tr><th></th><th title=\"String\">String</th><th title=\"Int64\">Int64</th></tr></thead><tbody><tr><th>1</th><td>0-5</td><td>19200</td></tr><tr><th>2</th><td>6-18</td><td>54400</td></tr><tr><th>3</th><td>19-65</td><td>268400</td></tr><tr><th>4</th><td>65+</td><td>58000</td></tr></tbody></table></div>"
      ],
      "text/latex": [
       "\\begin{tabular}{r|cc}\n",
       "\t& Age\\_range & Population\\\\\n",
       "\t\\hline\n",
       "\t& String & Int64\\\\\n",
       "\t\\hline\n",
       "\t1 & 0-5 & 19200 \\\\\n",
       "\t2 & 6-18 & 54400 \\\\\n",
       "\t3 & 19-65 & 268400 \\\\\n",
       "\t4 & 65+ & 58000 \\\\\n",
       "\\end{tabular}\n"
      ],
      "text/plain": [
       "\u001b[1m4×2 DataFrame\u001b[0m\n",
       "\u001b[1m Row \u001b[0m│\u001b[1m Age_range \u001b[0m\u001b[1m Population \u001b[0m\n",
       "\u001b[1m     \u001b[0m│\u001b[90m String    \u001b[0m\u001b[90m Int64      \u001b[0m\n",
       "─────┼───────────────────────\n",
       "   1 │ 0-5             19200\n",
       "   2 │ 6-18            54400\n",
       "   3 │ 19-65          268400\n",
       "   4 │ 65+             58000"
      ]
     },
     "execution_count": 5,
     "metadata": {},
     "output_type": "execute_result"
    }
   ],
   "source": [
    "population = DataFrame(Age_range=[\"0-5\", \"6-18\", \"19-65\",\"65+\"],\n",
    "                       Population=[19200, 54400, 268400, 58000])"
   ]
  },
  {
   "cell_type": "code",
   "execution_count": null,
   "id": "55472067",
   "metadata": {},
   "outputs": [
    {
     "data": {
      "text/html": [
       "<div class=\"data-frame\"><p>4 rows × 5 columns</p><table class=\"data-frame\"><thead><tr><th></th><th>Age_range</th><th>A</th><th>B</th><th>C</th><th>D</th></tr><tr><th></th><th title=\"String\">String</th><th title=\"Float64\">Float64</th><th title=\"Float64\">Float64</th><th title=\"Float64\">Float64</th><th title=\"Float64\">Float64</th></tr></thead><tbody><tr><th>1</th><td>0-5</td><td>0.75</td><td>0.7</td><td>0.6</td><td>0.65</td></tr><tr><th>2</th><td>6-18</td><td>0.5</td><td>0.85</td><td>0.6</td><td>0.65</td></tr><tr><th>3</th><td>19-65</td><td>0.5</td><td>0.7</td><td>0.5</td><td>0.65</td></tr><tr><th>4</th><td>65+</td><td>0.5</td><td>0.7</td><td>0.6</td><td>0.8</td></tr></tbody></table></div>"
      ],
      "text/latex": [
       "\\begin{tabular}{r|ccccc}\n",
       "\t& Age\\_range & A & B & C & D\\\\\n",
       "\t\\hline\n",
       "\t& String & Float64 & Float64 & Float64 & Float64\\\\\n",
       "\t\\hline\n",
       "\t1 & 0-5 & 0.75 & 0.7 & 0.6 & 0.65 \\\\\n",
       "\t2 & 6-18 & 0.5 & 0.85 & 0.6 & 0.65 \\\\\n",
       "\t3 & 19-65 & 0.5 & 0.7 & 0.5 & 0.65 \\\\\n",
       "\t4 & 65+ & 0.5 & 0.7 & 0.6 & 0.8 \\\\\n",
       "\\end{tabular}\n"
      ],
      "text/plain": [
       "\u001b[1m4×5 DataFrame\u001b[0m\n",
       "\u001b[1m Row \u001b[0m│\u001b[1m Age_range \u001b[0m\u001b[1m A       \u001b[0m\u001b[1m B       \u001b[0m\u001b[1m C       \u001b[0m\u001b[1m D       \u001b[0m\n",
       "\u001b[1m     \u001b[0m│\u001b[90m String    \u001b[0m\u001b[90m Float64 \u001b[0m\u001b[90m Float64 \u001b[0m\u001b[90m Float64 \u001b[0m\u001b[90m Float64 \u001b[0m\n",
       "─────┼───────────────────────────────────────────────\n",
       "   1 │ 0-5           0.75     0.7       0.6     0.65\n",
       "   2 │ 6-18          0.5      0.85      0.6     0.65\n",
       "   3 │ 19-65         0.5      0.7       0.5     0.65\n",
       "   4 │ 65+           0.5      0.7       0.6     0.8"
      ]
     },
     "execution_count": 6,
     "metadata": {},
     "output_type": "execute_result"
    }
   ],
   "source": [
    "effectiveness_per_population = DataFrame(Age_range=[\"0-5\", \"6-18\", \"19-65\",\"65+\"],\n",
    "                                        A=[.75, .50, .50, .50],\n",
    "                                        B=[.70,.85, .70, .70],\n",
    "                                        C=[.60,.60, .5, .60],\n",
    "                                        D=[.65,.65, .65, .65])"
   ]
  },
  {
   "cell_type": "code",
   "execution_count": 7,
   "id": "47aad71c",
   "metadata": {},
   "outputs": [
    {
     "data": {
      "text/html": [
       "<div class=\"data-frame\"><p>8 rows × 2 columns</p><table class=\"data-frame\"><thead><tr><th></th><th>Time</th><th>Budget</th></tr><tr><th></th><th title=\"Symbol\">Symbol</th><th title=\"Float64\">Float64</th></tr></thead><tbody><tr><th>1</th><td>T₀</td><td>142850.0</td></tr><tr><th>2</th><td>T₁</td><td>142850.0</td></tr><tr><th>3</th><td>T₂</td><td>142850.0</td></tr><tr><th>4</th><td>T₃</td><td>142850.0</td></tr><tr><th>5</th><td>T₄</td><td>142850.0</td></tr><tr><th>6</th><td>T₅</td><td>142850.0</td></tr><tr><th>7</th><td>T₆</td><td>142850.0</td></tr><tr><th>8</th><td>T₇</td><td>142850.0</td></tr></tbody></table></div>"
      ],
      "text/latex": [
       "\\begin{tabular}{r|cc}\n",
       "\t& Time & Budget\\\\\n",
       "\t\\hline\n",
       "\t& Symbol & Float64\\\\\n",
       "\t\\hline\n",
       "\t1 & T₀ & 142850.0 \\\\\n",
       "\t2 & T₁ & 142850.0 \\\\\n",
       "\t3 & T₂ & 142850.0 \\\\\n",
       "\t4 & T₃ & 142850.0 \\\\\n",
       "\t5 & T₄ & 142850.0 \\\\\n",
       "\t6 & T₅ & 142850.0 \\\\\n",
       "\t7 & T₆ & 142850.0 \\\\\n",
       "\t8 & T₇ & 142850.0 \\\\\n",
       "\\end{tabular}\n"
      ],
      "text/plain": [
       "\u001b[1m8×2 DataFrame\u001b[0m\n",
       "\u001b[1m Row \u001b[0m│\u001b[1m Time   \u001b[0m\u001b[1m Budget   \u001b[0m\n",
       "\u001b[1m     \u001b[0m│\u001b[90m Symbol \u001b[0m\u001b[90m Float64  \u001b[0m\n",
       "─────┼──────────────────\n",
       "   1 │ T₀      142850.0\n",
       "   2 │ T₁      142850.0\n",
       "   3 │ T₂      142850.0\n",
       "   4 │ T₃      142850.0\n",
       "   5 │ T₄      142850.0\n",
       "   6 │ T₅      142850.0\n",
       "   7 │ T₆      142850.0\n",
       "   8 │ T₇      142850.0"
      ]
     },
     "execution_count": 7,
     "metadata": {},
     "output_type": "execute_result"
    }
   ],
   "source": [
    "budget_per_time = DataFrame(Time=[:T₀, :T₁, :T₂, :T₃, :T₄, :T₅, :T₆, :T₇ ],\n",
    "                            Budget=[142850., 142850., 142850., 142850., 142850., 142850., 142850., 142850.])"
   ]
  },
  {
   "cell_type": "code",
   "execution_count": 13,
   "id": "09779739",
   "metadata": {},
   "outputs": [
    {
     "data": {
      "text/plain": [
       "resultant_value (generic function with 1 method)"
      ]
     },
     "execution_count": 13,
     "metadata": {},
     "output_type": "execute_result"
    }
   ],
   "source": [
    "function resultant_value(vaccine_type)\n",
    "    col_ind = findall(x->x==vaccine_type, cost_and_effectiveness[:,names(cost_and_effectiveness)[1]])[1]\n",
    "    êᵢ = cost_and_effectiveness[:,:Effectiveness][col_ind]\n",
    "    Σ = sum([e*n for (e,n) in zip(effectiveness_per_population[:, vaccine_type], population[:,:Population])])\n",
    "    eᵢ = êᵢ * Σ\n",
    "    return eᵢ\n",
    "end"
   ]
  },
  {
   "cell_type": "code",
   "execution_count": 10,
   "id": "b0f87cd0",
   "metadata": {},
   "outputs": [
    {
     "data": {
      "text/plain": [
       "find_col_index (generic function with 1 method)"
      ]
     },
     "execution_count": 10,
     "metadata": {},
     "output_type": "execute_result"
    }
   ],
   "source": [
    "function find_col_index(var, df) \n",
    "    ind = findall(x->x==var, df[:,names(df)[1]])[1]\n",
    "    return ind\n",
    "end"
   ]
  },
  {
   "cell_type": "markdown",
   "id": "8cc1b005",
   "metadata": {},
   "source": [
    "## Solving the LP"
   ]
  },
  {
   "cell_type": "code",
   "execution_count": 38,
   "id": "93aacff3",
   "metadata": {},
   "outputs": [
    {
     "data": {
      "text/plain": [
       "4"
      ]
     },
     "metadata": {},
     "output_type": "display_data"
    }
   ],
   "source": [
    "# V = [resultant_value(vax) for vax in [:A, :B, :C, :D]]\n",
    "# C = cost_per_vaccine_per_time[:,:T₀]\n",
    "# B = budget_per_time[:,:Budget][find_col_index(:T₀, budget_per_time)]\n",
    "\n",
    "# N = length(cost_and_effectiveness[:,:Vaccine_Type])"
   ]
  },
  {
   "cell_type": "code",
   "execution_count": 41,
   "id": "a1397021",
   "metadata": {},
   "outputs": [],
   "source": [
    "# tvlp = Model(GLPK.Optimizer)\n",
    "# init = [0 for i=1:N]\n",
    "\n",
    "# @variable(tvlp, x[i=1:N] >= 0, Int, start = init[i])\n",
    "# @constraint(tvlp, C'x <= B)\n",
    "# @objective(tvlp, Max, V'x)\n",
    "# optimize!(tvlp)\n",
    "# value.(x)"
   ]
  },
  {
   "cell_type": "markdown",
   "id": "8ec7af61",
   "metadata": {},
   "source": [
    "## TV-LP solver"
   ]
  },
  {
   "cell_type": "code",
   "execution_count": 14,
   "id": "cedbd222",
   "metadata": {},
   "outputs": [
    {
     "name": "stdout",
     "output_type": "stream",
     "text": [
      "Time step T₀\n",
      "Time step T₁\n",
      "Time step T₂\n",
      "Time step T₃\n"
     ]
    }
   ],
   "source": [
    "xs = []\n",
    "ts = [:T₀, :T₁, :T₂, :T₃, :T₄, :T₅, :T₆, :T₇]\n",
    "V = [resultant_value(vax) for vax in [:A, :B, :C, :D]]\n",
    "N = length(cost_and_effectiveness[:,:Vaccine_Type])\n",
    "init = [0 for i=1:N]\n",
    "\n",
    "\n",
    "for t in ts \n",
    "    C = cost_per_vaccine_per_time[:,t]\n",
    "    B = budget_per_time[:,:Budget][find_col_index(t, budget_per_time)] \n",
    "\n",
    "    tvlp = Model(GLPK.Optimizer) \n",
    "\n",
    "    @variable(tvlp, x[i=1:N] >= 0, Int, start = init[i])\n",
    "    @constraint(tvlp, C'x <= B)\n",
    "    @objective(tvlp, Max, V'x)\n",
    "    optimize!(tvlp)\n",
    "    init = value.(x)\n",
    "    push!(xs, init)\n",
    "    println(\"Time step \",t,\" \",init)\n",
    "end\n"
   ]
  },
  {
   "cell_type": "code",
   "execution_count": 12,
   "id": "44d5e46e",
   "metadata": {},
   "outputs": [
    {
     "data": {
      "text/plain": [
       "8-element Vector{Any}:\n",
       " [1.0, 0.0, 0.0, 35712.0]\n",
       " [1.0, 0.0, 0.0, 39680.0]\n",
       " [1.0, 0.0, 0.0, 44089.0]\n",
       " [1.0, 0.0, 1.0, 48987.0]\n",
       " [1.0, 0.0, 1.0, 54430.0]\n",
       " [1.0, 0.0, 1.0, 60478.0]\n",
       " [1.0, 0.0, 1.0, 67198.0]\n",
       " [0.0, 0.0, 1.0, 74665.0]"
      ]
     },
     "execution_count": 12,
     "metadata": {},
     "output_type": "execute_result"
    }
   ],
   "source": [
    "xs"
   ]
  },
  {
   "cell_type": "code",
   "execution_count": 33,
   "id": "959e2380",
   "metadata": {},
   "outputs": [
    {
     "data": {
      "text/plain": [
       "4-element Vector{Float64}:\n",
       " 102.39999999999999\n",
       " 201.71200000000002\n",
       " 168.15599999999998\n",
       " 214.96000000000004"
      ]
     },
     "execution_count": 33,
     "metadata": {},
     "output_type": "execute_result"
    }
   ],
   "source": [
    "V"
   ]
  },
  {
   "cell_type": "code",
   "execution_count": null,
   "id": "2a76ae79",
   "metadata": {},
   "outputs": [],
   "source": []
  }
 ],
 "metadata": {
  "kernelspec": {
   "display_name": "Julia 1.6.3",
   "language": "julia",
   "name": "julia-1.6"
  },
  "language_info": {
   "file_extension": ".jl",
   "mimetype": "application/julia",
   "name": "julia",
   "version": "1.6.3"
  }
 },
 "nbformat": 4,
 "nbformat_minor": 5
}
